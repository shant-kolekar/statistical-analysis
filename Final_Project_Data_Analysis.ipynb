{
 "cells": [
  {
   "cell_type": "code",
   "execution_count": 1,
   "id": "9cd64349",
   "metadata": {},
   "outputs": [],
   "source": [
    "# import all packages\n",
    "from scipy import stats\n",
    "import pandas as pd\n",
    "import numpy as np\n",
    "import matplotlib.pyplot as plt\n",
    "import seaborn as sns\n",
    "import re\n",
    "import math\n",
    "import warnings\n",
    "warnings.filterwarnings(\"ignore\")"
   ]
  },
  {
   "cell_type": "markdown",
   "id": "83bb35fd",
   "metadata": {},
   "source": [
    "### Part-I Clean the Dataset\n",
    "##### What to expect:\n",
    "   * In part-I, we will *__clean the data__*, and will write down each step in detail.\n",
    "        * Read CSV file\n",
    "        * Remove columns which are not requierd in analysis. \n",
    "            * ['address', 'phone']\n",
    "        * Rename columns to some intuitive names\n",
    "        * Handle the null values [drop it]\n",
    "            * The risk of bias arises if the imputed values are not representative of the true missing values, so we will remove missing values as we have enough dataset to work on.\n",
    "        * Drop duplicates\n",
    "        * Remove the irrelevant text from each column, if any\n",
    "            * For example in rating column extract 4.1 from '4.1/5' and convert it to float type.\n",
    "            * In 'online_order' column we want \"Yes or No\", so will remove records which have \n",
    "            values other than \"Yes or No\".\n",
    "            * Convert ['votes', 'approx_cost'] columns to integer.\n",
    "        * Check uniqueness of the data in each column \n",
    "             * If any nan value is created during conversion from string to float or int, handle those records with nan values.\n",
    "        * Remove Non-printable characters from Name column\n",
    "\n",
    "\n",
    "\n",
    "*__Note: First handle missing values and extract substring after that convert to numeric type as missing values and nan values might generate exception.__*"
   ]
  },
  {
   "cell_type": "code",
   "execution_count": 2,
   "id": "0b106401",
   "metadata": {},
   "outputs": [],
   "source": [
    "def read_data_from_csv():\n",
    "    path = input('Enter the path to csv file:\\t')\n",
    "    restaurants=pd.read_csv(path)\n",
    "    return restaurants\n",
    "\n",
    "\n",
    "def remove_unwanted_columns():\n",
    "    #call read_data_from_csv() function to get dataframe\n",
    "    \n",
    "    restaurants = read_data_from_csv()\n",
    "    restaurants = restaurants.drop(columns=['address', 'phone'])\n",
    "    \n",
    "    return restaurants\n",
    "\n",
    "\n",
    "def rename_columns():\n",
    "    #call remove_unwanted_columns() function to get dataframe\n",
    "    restaurants = remove_unwanted_columns()\n",
    "    \n",
    "    #rename columns,  only these columns will be used in the dataset\n",
    "    restaurants.rename(columns={'rate':'rating',\n",
    "                       'approx_cost(for two people)':'approx_cost',\n",
    "                       'listed_in(type)': 'type'}, inplace=True)\n",
    "   \n",
    "    return restaurants\n",
    "\n",
    "\n",
    "#handle  null values of each column\n",
    "def null_value_check():\n",
    "    \n",
    "    #call rename_columns() function to get dataframe\n",
    "    restaurants=rename_columns()\n",
    "    \n",
    "    #remove all null values from all columns\n",
    "    restaurants.dropna(inplace=True)\n",
    "    \n",
    "    for col in restaurants.columns:\n",
    "        \n",
    "        cnt = restaurants[col].loc[restaurants[col].isnull() == True].count()\n",
    "\n",
    "        if cnt != 0:\n",
    "            print(f'Oops :(, Null values in {col} column')\n",
    "            print(col, cnt)\n",
    "        \n",
    "    return restaurants\n",
    "\n",
    "\n",
    "#find duplicates in the dataset\n",
    "def remove_duplicates():\n",
    "    \n",
    "    #call null_value_check() function to get dataframe\n",
    "    restaurants=null_value_check()\n",
    "    \n",
    "    #droping the duplicates value keeping the first\n",
    "    restaurants.drop_duplicates(inplace=True)\n",
    "    \n",
    "    return restaurants\n",
    "\n",
    "\n",
    "#removing irrelevant text from all the columns\n",
    "def removing_irrelevant_text():\n",
    "    \n",
    "    #call remove_duplicates() function to get dataframe\n",
    "    restaurants= remove_duplicates()\n",
    "    \n",
    "    \n",
    "    #Extract ratings 4.1 from 4.1/5\n",
    "    restaurants['rating'] = restaurants['rating'].str.extract(r'^(\\d\\.\\d)')\n",
    "    restaurants['rating'] = restaurants['rating'].astype(float)\n",
    "    \n",
    "    #Remove rows which contains value other than Yes or No\n",
    "    restaurants = restaurants.loc[restaurants['online_order'].isin(['Yes', 'No'])]\n",
    "    \n",
    "    #Convert to float \n",
    "    restaurants['votes'] = restaurants['votes'].astype(int)\n",
    "    restaurants['approx_cost'] = restaurants['approx_cost'].str.replace(',', '').astype(int)\n",
    "    \n",
    "    \n",
    "    return restaurants\n",
    "\n",
    "\n",
    "#check for unique values in each column and handle the irrelevant values\n",
    "def check_for_unique_values():\n",
    "    '''\n",
    "    Handling or removing np.nan values which might arise during the extraction of ratings or \n",
    "    during conversion to float type.\n",
    "    '''\n",
    "    \n",
    "    #call removing_irrelevant_text() function to get dataframe\n",
    "    restaurants = removing_irrelevant_text()\n",
    "    \n",
    "    # Creating copy of the datafram as mutating the same dataframe might cause problems.\n",
    "    restaurants_cp = restaurants.copy()\n",
    "   \n",
    "\n",
    "    for col in restaurants_cp.columns:\n",
    "        if restaurants_cp[col].dtype != 'object':          \n",
    "            for val in restaurants_cp[col].unique():\n",
    "                if math.isnan(val) or np.isnan(val) or pd.isna(val):\n",
    "                    #remove all those rows where val is np.nan \n",
    "                    restaurants = restaurants.loc[np.isnan(restaurants[col]) == False]\n",
    "                    \n",
    "    return restaurants\n",
    "\n",
    "\n",
    "#remove the unknown character from the dataset and export it to \"zomatocleaned.csv\"\n",
    "def remove_the_unknown_character():\n",
    "    '''\n",
    "    remove unknown character from dataset\n",
    "    '''\n",
    "    \n",
    "    #call check_for_unique_values() function to get dataframe\n",
    "    dataframe=check_for_unique_values()\n",
    "    \n",
    "    # define a regular expression pattern to remove unknown characters \n",
    "    # AsCII code for printable chars\n",
    "    pattern = r'[^\\x00-\\x7F]+'\n",
    "\n",
    "    # remove unknown characters from non-numeric columns\n",
    "    for col in dataframe.columns:  \n",
    "        if dataframe[col].dtype == 'object':\n",
    "            dataframe[col] = dataframe[col].apply(lambda x: re.sub(pattern, '', x))\n",
    "\n",
    "    \n",
    "    \n",
    "    #export cleaned Dataset to newcsv file named \"zomatocleaned.csv\"\n",
    "#     dataframe.to_csv('zomato_cleaned.csv')\n",
    "    return dataframe\n",
    "\n",
    "\n",
    "\n",
    "\n",
    "def cleaned_data():\n",
    "    '''\n",
    "    Returns dataframe where all null values are handled, and \n",
    "    converts all columns to appropriate format.\n",
    "    \n",
    "    '''\n",
    "    return remove_the_unknown_character()\n"
   ]
  },
  {
   "cell_type": "code",
   "execution_count": 3,
   "id": "49329a80",
   "metadata": {
    "scrolled": false
   },
   "outputs": [
    {
     "name": "stdout",
     "output_type": "stream",
     "text": [
      "Enter the path to csv file:\tzomato.csv\n"
     ]
    }
   ],
   "source": [
    "df = cleaned_data()"
   ]
  },
  {
   "cell_type": "markdown",
   "id": "257e38dc",
   "metadata": {},
   "source": [
    "df.head(3)"
   ]
  },
  {
   "cell_type": "markdown",
   "id": "d1231a99",
   "metadata": {},
   "source": [
    "### Part-II Compare two samples"
   ]
  },
  {
   "cell_type": "markdown",
   "id": "a8688fd5",
   "metadata": {},
   "source": [
    "* Visualize and understand the dataset\n",
    "* Make Hypothesis\n",
    "* To validate that hypothesis let's run some tests:\n",
    "\n",
    "    * First check if samples are independent \n",
    "    * check population distriubtion is normal if sample size is small\n",
    "    * If sample size large enough and std deviation is unknow then use z-test\n"
   ]
  },
  {
   "cell_type": "markdown",
   "id": "20c4dc98",
   "metadata": {},
   "source": [
    "__I am going to use type of the restaurant, for examle delivery, dine-out, to compare average spending for each category.__"
   ]
  },
  {
   "cell_type": "code",
   "execution_count": 4,
   "id": "26d07954",
   "metadata": {},
   "outputs": [
    {
     "data": {
      "image/png": "[encoded data removed]",
      "text/plain": [
       "<Figure size 432x288 with 1 Axes>"
      ]
     },
     "metadata": {
      "needs_background": "light"
     },
     "output_type": "display_data"
    }
   ],
   "source": [
    "# Create a bar plot for each type of restaurants\n",
    "plt.bar(df.type.value_counts().index,df.type.value_counts().values)\n",
    "\n",
    "plt.title('Number of restaurants of each category')\n",
    "plt.xlabel('Type of restaurant')\n",
    "plt.ylabel('Number of restaurants')\n",
    "\n",
    "# Rotate labels vertically\n",
    "plt.xticks(rotation=90)\n",
    "\n",
    "plt.show()"
   ]
  },
  {
   "cell_type": "markdown",
   "id": "d91a6e9e",
   "metadata": {},
   "source": [
    "#### Check Independence\n",
    "* To check samples are independent\n",
    "* Check if same restaurants are appearing in both categories ['Delivery', 'Dine-out'] if yes then exclude those records  \n"
   ]
  },
  {
   "cell_type": "code",
   "execution_count": 5,
   "id": "f8ddaca1",
   "metadata": {},
   "outputs": [],
   "source": [
    "def independent_samples(pk = ['name', 'location', 'type']):\n",
    "    '''\n",
    "    Selecting only independent samples. \n",
    "    \n",
    "    This funciton will drop the restaurants with same name, location and type, \n",
    "    as it's possible that restaurant can have both delivery & dine-out facilities.\n",
    "    Moreover, restaurant listed with same name & location can have different type.\n",
    "    '''\n",
    "    return df.drop_duplicates(subset=pk, keep='first')"
   ]
  },
  {
   "cell_type": "code",
   "execution_count": 6,
   "id": "f378412a",
   "metadata": {},
   "outputs": [
    {
     "data": {
      "image/png": "[encoded data removed]",
      "text/plain": [
       "<Figure size 936x360 with 2 Axes>"
      ]
     },
     "metadata": {
      "needs_background": "light"
     },
     "output_type": "display_data"
    }
   ],
   "source": [
    "# Grouping the data for each category\n",
    "ind_df = independent_samples()\n",
    "groups_type = ind_df.groupby('type')\n",
    "\n",
    "# Create box plot for each category\n",
    "fig = plt.figure(figsize=(13,5))\n",
    "cnt = 1\n",
    "samples_d = {}\n",
    "\n",
    "for name, group in groups_type:\n",
    "    samples_d[str(name)] = group\n",
    "    # Just using two categories for analysis\n",
    "    if name in ['Delivery', 'Dine-out']:\n",
    "        fig.add_subplot(1,2,cnt)\n",
    "        sns.boxplot(group['approx_cost'])\n",
    "        plt.title(f'{name} restaurant')\n",
    "        plt.xlim(0,2500)\n",
    "\n",
    "        cnt += 1\n",
    "        \n",
    "\n",
    "# ax.set_xlabel('Type of restaurant')\n",
    "# ax.set_ylabel('approximate cost for two people')\n",
    "\n",
    "plt.show()"
   ]
  },
  {
   "cell_type": "markdown",
   "id": "8741c07b",
   "metadata": {},
   "source": [
    "# Hypothesis Procedures\n",
    "\n",
    "In this section, we outline the hypothesis procedures for our study. \n",
    "\n",
    "##### My claim is that average cost of dining out is more as compared to delivery. \n",
    "\n",
    "\n",
    "- $H_0$: Average cost of Dining out is less or equl than Delivery.\n",
    "- $H_1$: Average cost of Dining out is more than Delivery.\n",
    "\n",
    "We will use a significance level of $\\alpha = 0.05$.\n",
    "\n",
    "Mapping: Delivery=1 , Dine-out=2\n",
    "\n",
    "$H_0: \\mu_1 \\ge \\mu_2$\n",
    "\n",
    "\n",
    "$H_a: \\mu_1 < \\mu_2$\n",
    "\n",
    "Sample size:  ($ n_1 + n_2 - 2) > 30$\n",
    "\n",
    "sample size is large enough so by __Central limit theorem__ use independent __Z-test__\n",
    "\n",
    "Test Statistic:\n",
    "$z = \\frac{\\bar{x}_1 - \\bar{x}_2}{\\sqrt{\\frac{s_1^2}{n_1}+\\frac{s_2^2}{n_2}}}$\n",
    "\n",
    "\n",
    "Critical Value:\n",
    "$z_{\\alpha}$\n",
    "\n",
    "Decision Rule:\n",
    "\n",
    "Reject $H_0$ if $p_{value} < \\alpha$\n",
    "\n",
    "\n",
    "Fail to reject $H_0$ if $p_{value} > \\alpha$"
   ]
  },
  {
   "cell_type": "code",
   "execution_count": 7,
   "id": "3dc92f3a",
   "metadata": {},
   "outputs": [
    {
     "name": "stdout",
     "output_type": "stream",
     "text": [
      "Sample size is: 6321\n",
      "\n",
      "z-statistic: -14.7525\n",
      "\n",
      "p-value:  0.0000\n",
      "\n",
      "Reject Null hpyothesis\n"
     ]
    }
   ],
   "source": [
    "# Extract samples\n",
    "sample1 = samples_d['Delivery'].approx_cost\n",
    "sample2 = samples_d['Dine-out'].approx_cost\n",
    "\n",
    "sample_size = sample1.shape[0] + sample2.shape[0] - 2 \n",
    "\n",
    "if sample_size > 30:\n",
    "    print('Sample size is:', sample_size)\n",
    "    # calculate the test statistic\n",
    "    sample1_var = sample1.var()\n",
    "    sample2_var = sample2.var()\n",
    "    z = (sample1.mean() - sample2.mean()) / \\\n",
    "                            np.sqrt(( sample1_var/ sample1.shape[0]) + (sample2_var/sample2.shape[0]))\n",
    "\n",
    "# calculate the p-value\n",
    "p = stats.norm.cdf(-abs(z))\n",
    "\n",
    "# print the test statistic and p-value\n",
    "print(f'\\nz-statistic: {z: .4f}')\n",
    "print(f'\\np-value: {p: .4f}')\n",
    "\n",
    "if p<0.05:\n",
    "    print('\\nReject Null hpyothesis')\n",
    "    \n",
    "elif p>0.05:\n",
    "    print('\\nFail to reject Null hypothesis')"
   ]
  },
  {
   "cell_type": "markdown",
   "id": "3a769160",
   "metadata": {},
   "source": [
    "Huray ! \n",
    "\n",
    ":) \n",
    "    \n",
    "__My claim is true: Average cost of dining out is more than delivery.__"
   ]
  },
  {
   "cell_type": "markdown",
   "id": "67e6fbbc",
   "metadata": {},
   "source": [
    "##### Related samples in contex of same Hypothesis "
   ]
  },
  {
   "cell_type": "markdown",
   "id": "7c7abff9",
   "metadata": {},
   "source": [
    "* Related samples are those restaurants which are listed as both Delivery & Dine-out. However,  approx_cost for Delivery is as same as Dine-out so it isn't good idea to compare those samples. \n",
    "\n",
    "* In addition to that restaurants listed on Zomato with same name & location might offer Delivery & Dine-out but calculation of approx_cost is based on cumulative sum that's why same approx_cost for two different types."
   ]
  }
 ],
 "metadata": {
  "kernelspec": {
   "display_name": "Python 3 (ipykernel)",
   "language": "python",
   "name": "python3"
  },
  "language_info": {
   "codemirror_mode": {
    "name": "ipython",
    "version": 3
   },
   "file_extension": ".py",
   "mimetype": "text/x-python",
   "name": "python",
   "nbconvert_exporter": "python",
   "pygments_lexer": "ipython3",
   "version": "3.9.7"
  }
 },
 "nbformat": 4,
 "nbformat_minor": 5
}
