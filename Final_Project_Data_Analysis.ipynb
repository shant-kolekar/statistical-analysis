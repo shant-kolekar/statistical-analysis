{
 "cells": [
  {
   "cell_type": "code",
   "execution_count": 25,
   "id": "9cd64349",
   "metadata": {},
   "outputs": [],
   "source": [
    "# import all packages\n",
    "from scipy import stats\n",
    "import pandas as pd\n",
    "import numpy as np\n",
    "import matplotlib.pyplot as plt\n",
    "import seaborn as sns\n",
    "import re\n",
    "import math\n",
    "import warnings\n",
    "warnings.filterwarnings(\"ignore\")\n",
    "from sklearn.preprocessing import LabelEncoder, StandardScaler, PolynomialFeatures\n",
    "from sklearn.linear_model import LinearRegression\n",
    "from sklearn.model_selection import train_test_split, cross_val_score, KFold\n",
    "from itertools import combinations\n",
    "from sklearn.linear_model import Lasso, Ridge\n",
    "from sklearn.metrics import mean_squared_error\n"
   ]
  },
  {
   "cell_type": "markdown",
   "id": "83bb35fd",
   "metadata": {},
   "source": [
    "### Clean the Dataset\n",
    "##### What to expect:\n",
    "   * In part-I, we will *__clean the data__*, and will write down each step in detail.\n",
    "        * Read CSV file\n",
    "        * Remove columns which are not requierd in analysis. \n",
    "            * ['address', 'phone']\n",
    "        * Rename columns to some intuitive names\n",
    "        * Handle the null values [drop it]\n",
    "            * The risk of bias arises if the imputed values are not representative of the true missing values, so we will remove missing values as we have enough dataset to work on.\n",
    "        * Drop duplicates\n",
    "        * Remove the irrelevant text from each column, if any\n",
    "            * For example in rating column extract 4.1 from '4.1/5' and convert it to float type.\n",
    "            * In 'online_order' column we want \"Yes or No\", so will remove records which have \n",
    "            values other than \"Yes or No\".\n",
    "            * Convert ['votes', 'approx_cost'] columns to integer.\n",
    "        * Check uniqueness of the data in each column \n",
    "             * If any nan value is created during conversion from string to float or int, handle those records with nan values.\n",
    "        * Remove Non-printable characters from Name column\n",
    "\n",
    "\n",
    "\n",
    "*__Note: First handle missing values and extract substring after that convert to numeric type as missing values and nan values might generate exception.__*"
   ]
  },
  {
   "cell_type": "code",
   "execution_count": 2,
   "id": "0b106401",
   "metadata": {},
   "outputs": [],
   "source": [
    "def read_data_from_csv():\n",
    "    path = input('Enter the path to csv file:\\t')\n",
    "    restaurants=pd.read_csv(path)\n",
    "    return restaurants\n",
    "\n",
    "\n",
    "def remove_unwanted_columns():\n",
    "    #call read_data_from_csv() function to get dataframe\n",
    "    \n",
    "    restaurants = read_data_from_csv()\n",
    "    restaurants = restaurants.drop(columns=['address', 'phone'])\n",
    "    \n",
    "    return restaurants\n",
    "\n",
    "\n",
    "def rename_columns():\n",
    "    #call remove_unwanted_columns() function to get dataframe\n",
    "    restaurants = remove_unwanted_columns()\n",
    "    \n",
    "    #rename columns,  only these columns will be used in the dataset\n",
    "    restaurants.rename(columns={'rate':'rating',\n",
    "                       'approx_cost(for two people)':'approx_cost',\n",
    "                       'listed_in(type)': 'type'}, inplace=True)\n",
    "   \n",
    "    return restaurants\n",
    "\n",
    "\n",
    "#handle  null values of each column\n",
    "def null_value_check():\n",
    "    \n",
    "    #call rename_columns() function to get dataframe\n",
    "    restaurants=rename_columns()\n",
    "    \n",
    "    #remove all null values from all columns\n",
    "    restaurants.dropna(inplace=True)\n",
    "    \n",
    "    for col in restaurants.columns:\n",
    "        \n",
    "        cnt = restaurants[col].loc[restaurants[col].isnull() == True].count()\n",
    "\n",
    "        if cnt != 0:\n",
    "            print(f'Oops :(, Null values in {col} column')\n",
    "            print(col, cnt)\n",
    "        \n",
    "    return restaurants\n",
    "\n",
    "\n",
    "#find duplicates in the dataset\n",
    "def remove_duplicates():\n",
    "    \n",
    "    #call null_value_check() function to get dataframe\n",
    "    restaurants=null_value_check()\n",
    "    \n",
    "    #droping the duplicates value keeping the first\n",
    "    restaurants.drop_duplicates(inplace=True)\n",
    "    \n",
    "    return restaurants\n",
    "\n",
    "\n",
    "#removing irrelevant text from all the columns\n",
    "def removing_irrelevant_text():\n",
    "    \n",
    "    #call remove_duplicates() function to get dataframe\n",
    "    restaurants= remove_duplicates()\n",
    "    \n",
    "    \n",
    "    #Extract ratings 4.1 from 4.1/5\n",
    "    restaurants['rating'] = restaurants['rating'].str.extract(r'^(\\d\\.\\d)')\n",
    "    restaurants['rating'] = restaurants['rating'].astype(float)\n",
    "    \n",
    "    #Remove rows which contains value other than Yes or No\n",
    "    restaurants = restaurants.loc[restaurants['online_order'].isin(['Yes', 'No'])]\n",
    "    \n",
    "    #Convert to float \n",
    "    restaurants['votes'] = restaurants['votes'].astype(int)\n",
    "    restaurants['approx_cost'] = restaurants['approx_cost'].str.replace(',', '').astype(int)\n",
    "    \n",
    "    \n",
    "    return restaurants\n",
    "\n",
    "\n",
    "#check for unique values in each column and handle the irrelevant values\n",
    "def check_for_unique_values():\n",
    "    '''\n",
    "    Handling or removing np.nan values which might arise during the extraction of ratings or \n",
    "    during conversion to float type.\n",
    "    '''\n",
    "    \n",
    "    #call removing_irrelevant_text() function to get dataframe\n",
    "    restaurants = removing_irrelevant_text()\n",
    "    \n",
    "    # Creating copy of the datafram as mutating the same dataframe might cause problems.\n",
    "    restaurants_cp = restaurants.copy()\n",
    "   \n",
    "\n",
    "    for col in restaurants_cp.columns:\n",
    "        if restaurants_cp[col].dtype != 'object':          \n",
    "            for val in restaurants_cp[col].unique():\n",
    "                if math.isnan(val) or np.isnan(val) or pd.isna(val):\n",
    "                    #remove all those rows where val is np.nan \n",
    "                    restaurants = restaurants.loc[np.isnan(restaurants[col]) == False]\n",
    "                    \n",
    "    return restaurants\n",
    "\n",
    "\n",
    "#remove the unknown character from the dataset and export it to \"zomatocleaned.csv\"\n",
    "def remove_the_unknown_character():\n",
    "    '''\n",
    "    remove unknown character from dataset\n",
    "    '''\n",
    "    \n",
    "    #call check_for_unique_values() function to get dataframe\n",
    "    dataframe=check_for_unique_values()\n",
    "    \n",
    "    # define a regular expression pattern to remove unknown characters \n",
    "    # AsCII code for printable chars\n",
    "    pattern = r'[^\\x00-\\x7F]+'\n",
    "\n",
    "    # remove unknown characters from non-numeric columns\n",
    "    for col in dataframe.columns:  \n",
    "        if dataframe[col].dtype == 'object':\n",
    "            dataframe[col] = dataframe[col].apply(lambda x: re.sub(pattern, '', x))\n",
    "\n",
    "    \n",
    "    \n",
    "    #export cleaned Dataset to newcsv file named \"zomatocleaned.csv\"\n",
    "#     dataframe.to_csv('zomato_cleaned.csv')\n",
    "    return dataframe\n",
    "\n",
    "\n",
    "\n",
    "\n",
    "def cleaned_data():\n",
    "    '''\n",
    "    Returns dataframe where all null values are handled, and \n",
    "    converts all columns to appropriate format.\n",
    "    \n",
    "    '''\n",
    "    return remove_the_unknown_character()\n"
   ]
  },
  {
   "cell_type": "code",
   "execution_count": 3,
   "id": "49329a80",
   "metadata": {
    "scrolled": false
   },
   "outputs": [
    {
     "name": "stdout",
     "output_type": "stream",
     "text": [
      "Enter the path to csv file:\tzomato.csv\n"
     ]
    }
   ],
   "source": [
    "df = cleaned_data()"
   ]
  },
  {
   "cell_type": "code",
   "execution_count": 4,
   "id": "8cd90561",
   "metadata": {},
   "outputs": [
    {
     "data": {
      "text/html": [
       "<div>\n",
       "<style scoped>\n",
       "    .dataframe tbody tr th:only-of-type {\n",
       "        vertical-align: middle;\n",
       "    }\n",
       "\n",
       "    .dataframe tbody tr th {\n",
       "        vertical-align: top;\n",
       "    }\n",
       "\n",
       "    .dataframe thead th {\n",
       "        text-align: right;\n",
       "    }\n",
       "</style>\n",
       "<table border=\"1\" class=\"dataframe\">\n",
       "  <thead>\n",
       "    <tr style=\"text-align: right;\">\n",
       "      <th></th>\n",
       "      <th>name</th>\n",
       "      <th>online_order</th>\n",
       "      <th>book_table</th>\n",
       "      <th>rating</th>\n",
       "      <th>votes</th>\n",
       "      <th>location</th>\n",
       "      <th>rest_type</th>\n",
       "      <th>dish_liked</th>\n",
       "      <th>cuisines</th>\n",
       "      <th>approx_cost</th>\n",
       "      <th>type</th>\n",
       "    </tr>\n",
       "  </thead>\n",
       "  <tbody>\n",
       "    <tr>\n",
       "      <th>0</th>\n",
       "      <td>Jalsa</td>\n",
       "      <td>Yes</td>\n",
       "      <td>Yes</td>\n",
       "      <td>4.1</td>\n",
       "      <td>775</td>\n",
       "      <td>Banashankari</td>\n",
       "      <td>Casual Dining</td>\n",
       "      <td>Pasta, Lunch Buffet, Masala Papad, Paneer Laja...</td>\n",
       "      <td>North Indian, Mughlai, Chinese</td>\n",
       "      <td>800</td>\n",
       "      <td>Buffet</td>\n",
       "    </tr>\n",
       "    <tr>\n",
       "      <th>1</th>\n",
       "      <td>Spice Elephant</td>\n",
       "      <td>Yes</td>\n",
       "      <td>No</td>\n",
       "      <td>4.1</td>\n",
       "      <td>787</td>\n",
       "      <td>Banashankari</td>\n",
       "      <td>Casual Dining</td>\n",
       "      <td>Momos, Lunch Buffet, Chocolate Nirvana, Thai G...</td>\n",
       "      <td>Chinese, North Indian, Thai</td>\n",
       "      <td>800</td>\n",
       "      <td>Buffet</td>\n",
       "    </tr>\n",
       "    <tr>\n",
       "      <th>2</th>\n",
       "      <td>San Churro Cafe</td>\n",
       "      <td>Yes</td>\n",
       "      <td>No</td>\n",
       "      <td>3.8</td>\n",
       "      <td>918</td>\n",
       "      <td>Banashankari</td>\n",
       "      <td>Cafe, Casual Dining</td>\n",
       "      <td>Churros, Cannelloni, Minestrone Soup, Hot Choc...</td>\n",
       "      <td>Cafe, Mexican, Italian</td>\n",
       "      <td>800</td>\n",
       "      <td>Buffet</td>\n",
       "    </tr>\n",
       "  </tbody>\n",
       "</table>\n",
       "</div>"
      ],
      "text/plain": [
       "              name online_order book_table  rating  votes      location  \\\n",
       "0            Jalsa          Yes        Yes     4.1    775  Banashankari   \n",
       "1   Spice Elephant          Yes         No     4.1    787  Banashankari   \n",
       "2  San Churro Cafe          Yes         No     3.8    918  Banashankari   \n",
       "\n",
       "             rest_type                                         dish_liked  \\\n",
       "0        Casual Dining  Pasta, Lunch Buffet, Masala Papad, Paneer Laja...   \n",
       "1        Casual Dining  Momos, Lunch Buffet, Chocolate Nirvana, Thai G...   \n",
       "2  Cafe, Casual Dining  Churros, Cannelloni, Minestrone Soup, Hot Choc...   \n",
       "\n",
       "                         cuisines  approx_cost    type  \n",
       "0  North Indian, Mughlai, Chinese          800  Buffet  \n",
       "1     Chinese, North Indian, Thai          800  Buffet  \n",
       "2          Cafe, Mexican, Italian          800  Buffet  "
      ]
     },
     "execution_count": 4,
     "metadata": {},
     "output_type": "execute_result"
    }
   ],
   "source": [
    "df.head(3)"
   ]
  },
  {
   "cell_type": "markdown",
   "id": "1cb42e09",
   "metadata": {},
   "source": [
    "### Part-I Compare two samples"
   ]
  },
  {
   "cell_type": "markdown",
   "id": "68e3ae9b",
   "metadata": {},
   "source": [
    "* Visualize and understand the dataset\n",
    "* Make Hypothesis\n",
    "* To validate that hypothesis let's run some tests:\n",
    "\n",
    "    * First check if samples are independent \n",
    "    * check population distriubtion is normal if sample size is small\n",
    "    * If sample size large enough and std deviation is unknow then use z-test\n"
   ]
  },
  {
   "cell_type": "markdown",
   "id": "7d8cbc73",
   "metadata": {},
   "source": [
    "__I am going to use type of the restaurant, for examle delivery, dine-out, to compare average spending for each category.__"
   ]
  },
  {
   "cell_type": "code",
   "execution_count": 5,
   "id": "ab675c3b",
   "metadata": {},
   "outputs": [
    {
     "data": {
      "image/png": "[encoded data removed]",
      "text/plain": [
       "<Figure size 432x288 with 1 Axes>"
      ]
     },
     "metadata": {
      "needs_background": "light"
     },
     "output_type": "display_data"
    }
   ],
   "source": [
    "# Create a bar plot for each type of restaurants\n",
    "plt.bar(df.type.value_counts().index,df.type.value_counts().values)\n",
    "\n",
    "plt.title('Number of restaurants of each category')\n",
    "plt.xlabel('Type of restaurant')\n",
    "plt.ylabel('Number of restaurants')\n",
    "\n",
    "# Rotate labels vertically\n",
    "plt.xticks(rotation=90)\n",
    "\n",
    "plt.show()"
   ]
  },
  {
   "cell_type": "markdown",
   "id": "0edd648e",
   "metadata": {},
   "source": [
    "#### Check Independence\n",
    "* To check samples are independent\n",
    "* Check if same restaurants are appearing in both categories ['Delivery', 'Dine-out'] if yes then exclude those records  \n"
   ]
  },
  {
   "cell_type": "code",
   "execution_count": 6,
   "id": "2d3aa429",
   "metadata": {},
   "outputs": [],
   "source": [
    "def independent_samples(pk = ['name', 'location']):\n",
    "    '''\n",
    "    Selecting only independent samples. \n",
    "    \n",
    "    This funciton will drop the restaurants with same name, location, \n",
    "    as it's possible that restaurant can have both delivery & dine-out or more facilities.\n",
    "    Moreover, restaurant listed with same name & location can have different type.\n",
    "    '''\n",
    "    return df.drop_duplicates(subset=pk, keep='first')"
   ]
  },
  {
   "cell_type": "code",
   "execution_count": 7,
   "id": "2a8c9610",
   "metadata": {},
   "outputs": [
    {
     "data": {
      "image/png": "[encoded data removed]",
      "text/plain": [
       "<Figure size 936x360 with 2 Axes>"
      ]
     },
     "metadata": {
      "needs_background": "light"
     },
     "output_type": "display_data"
    }
   ],
   "source": [
    "# Grouping the data for each category\n",
    "ind_df = independent_samples()\n",
    "groups_type = ind_df.groupby('type')\n",
    "\n",
    "# Create box plot for each category\n",
    "fig = plt.figure(figsize=(13,5))\n",
    "cnt = 1\n",
    "samples_d = {}\n",
    "\n",
    "for name, group in groups_type:\n",
    "    samples_d[str(name)] = group\n",
    "    # Just using two categories for analysis\n",
    "    if name in ['Delivery', 'Dine-out']:\n",
    "        fig.add_subplot(1,2,cnt)\n",
    "        sns.boxplot(group['approx_cost'])\n",
    "        plt.title(f'{name} restaurant')\n",
    "        plt.xlim(0,2500)\n",
    "\n",
    "        cnt += 1\n",
    "        \n",
    "\n",
    "# ax.set_xlabel('Type of restaurant')\n",
    "# ax.set_ylabel('approximate cost for two people')\n",
    "\n",
    "plt.show()"
   ]
  },
  {
   "cell_type": "markdown",
   "id": "de6349db",
   "metadata": {},
   "source": [
    "### Hypothesis Procedures for Comparing two samples\n",
    "\n",
    "In this section, we outline the hypothesis procedures for our study. \n",
    "\n",
    "##### My claim is that average cost of dining out is more as compared to delivery. \n",
    "\n",
    "\n",
    "- $H_0$: Average cost of Dining out is less or equl than Delivery.\n",
    "- $H_1$: Average cost of Dining out is more than Delivery.\n",
    "\n",
    "We will use a significance level of $\\alpha = 0.05$.\n",
    "\n",
    "Mapping: Delivery=1 , Dine-out=2\n",
    "\n",
    "$H_0: \\mu_1 \\ge \\mu_2$\n",
    "\n",
    "\n",
    "$H_a: \\mu_1 < \\mu_2$\n",
    "\n",
    "Sample size:  ($ n_1 + n_2 - 2) > 30$\n",
    "\n",
    "sample size is large enough so by __Central limit theorem__ use independent __Z-test__\n",
    "\n",
    "Test Statistic:\n",
    "$z = \\frac{\\bar{x}_1 - \\bar{x}_2}{\\sqrt{\\frac{s_1^2}{n_1}+\\frac{s_2^2}{n_2}}}$\n",
    "\n",
    "\n",
    "Critical Value:\n",
    "$z_{\\alpha}$\n",
    "\n",
    "Decision Rule:\n",
    "\n",
    "Reject $H_0$ if $p_{value} < \\alpha$\n",
    "\n",
    "\n",
    "Fail to reject $H_0$ if $p_{value} > \\alpha$"
   ]
  },
  {
   "cell_type": "code",
   "execution_count": 8,
   "id": "e21672ae",
   "metadata": {},
   "outputs": [
    {
     "name": "stdout",
     "output_type": "stream",
     "text": [
      "Sample size is: 3619\n",
      "\n",
      "z-statistic: -13.3531\n",
      "\n",
      "p-value:  0.0000\n",
      "\n",
      "Reject Null hpyothesis\n"
     ]
    }
   ],
   "source": [
    "# Extract samples\n",
    "sample1 = samples_d['Delivery'].approx_cost\n",
    "sample2 = samples_d['Dine-out'].approx_cost\n",
    "\n",
    "sample_size = sample1.shape[0] + sample2.shape[0] - 2 \n",
    "\n",
    "if sample_size > 30:\n",
    "    print('Sample size is:', sample_size)\n",
    "    # calculate the test statistic\n",
    "    sample1_var = sample1.var()\n",
    "    sample2_var = sample2.var()\n",
    "    z = (sample1.mean() - sample2.mean()) / \\\n",
    "                            np.sqrt(( sample1_var/ sample1.shape[0]) + (sample2_var/sample2.shape[0]))\n",
    "\n",
    "# calculate the p-value\n",
    "p = stats.norm.cdf(-abs(z))\n",
    "\n",
    "# print the test statistic and p-value\n",
    "print(f'\\nz-statistic: {z: .4f}')\n",
    "print(f'\\np-value: {p: .4f}')\n",
    "\n",
    "if p<0.05:\n",
    "    print('\\nReject Null hpyothesis')\n",
    "    \n",
    "elif p>0.05:\n",
    "    print('\\nFail to reject Null hypothesis')"
   ]
  },
  {
   "cell_type": "markdown",
   "id": "85f96f76",
   "metadata": {},
   "source": [
    "Huray ! \n",
    "\n",
    ":) \n",
    "    \n",
    "__My claim is true: Average cost of dining out is more than delivery.__"
   ]
  },
  {
   "cell_type": "markdown",
   "id": "f702d0d7",
   "metadata": {},
   "source": [
    "---------------------"
   ]
  },
  {
   "cell_type": "markdown",
   "id": "90388eaf",
   "metadata": {},
   "source": [
    "##### Related samples in contex of same Hypothesis "
   ]
  },
  {
   "cell_type": "markdown",
   "id": "67385bd4",
   "metadata": {},
   "source": [
    "* Related samples are those restaurants which are listed as both Delivery & Dine-out. However,  approx_cost for Delivery is as same as Dine-out so it isn't good idea to compare those samples. \n",
    "\n",
    "* In addition to that restaurants listed on Zomato with same name & location might offer Delivery & Dine-out but calculation of approx_cost is based on cumulative sum that's why same approx_cost for two different types."
   ]
  },
  {
   "cell_type": "markdown",
   "id": "4ddcf010",
   "metadata": {},
   "source": [
    "--------------"
   ]
  },
  {
   "cell_type": "markdown",
   "id": "e07e0635",
   "metadata": {},
   "source": [
    "### Part-II ANOVA"
   ]
  },
  {
   "cell_type": "markdown",
   "id": "14d3127d",
   "metadata": {},
   "source": [
    "### Hypothesis Procedure for ANOVA\n",
    "\n",
    "In this section, we outline the hypothesis procedures for our study. \n",
    "\n",
    "##### My claim is that average cost of every type of restaurant is same. \n",
    "\n",
    "\n",
    "- $H_0$: Average cost for every type of restaurant is same.\n",
    "- $H_1$: Average cost for every type of restaurant is not same.\n",
    "\n",
    "We will use a significance level of $\\alpha = 0.05$.\n",
    "\n",
    "Mapping: Delivery=1 , Dine-out=2, Desserts=3, Cafes=4, Drinks & nightlife=5, Buffet=6,\n",
    "            Pubs and bars=7.\n",
    "            \n",
    "$H_0: \\mu_1 = \\mu_2 = \\mu_3 = \\mu_4 = \\mu_5 = \\mu_6 = \\mu_7$\n",
    "\n",
    "$H_a: Not  \\  {H_0}$\n",
    "\n",
    "__One-way ANOVA__\n",
    "\n",
    "I used the following method to perform the ANOVA test:\n",
    "\n",
    "- Collected data from seven groups.\n",
    "- Calculated the sum of squares within groups (SSW) and between groups (SSB).\n",
    "- Calculated the degrees of freedom within groups (dfW) and between groups (dfB).\n",
    "- Calculated the mean square within groups (MSW) and between groups (MSB).\n",
    "- Calculated the F-statistic by dividing MSB by MSW.\n",
    "- Compared the F-statistic to the critical value at the 5% significance level with degrees of freedom (dfB, dfW).\n",
    "- Made a decision about whether to reject the null hypothesis.\n",
    "\n",
    "\n",
    "\n",
    "Decision Rule:\n",
    "\n",
    "Reject $H_0$ if $p_{value} < \\alpha$\n",
    "\n",
    "\n",
    "Fail to reject $H_0$ if $p_{value} > \\alpha$"
   ]
  },
  {
   "cell_type": "code",
   "execution_count": 9,
   "id": "1a976dde",
   "metadata": {},
   "outputs": [
    {
     "name": "stdout",
     "output_type": "stream",
     "text": [
      "F-statistic: 191.10\n",
      "p-value: 0.0000\n",
      "Reject Null Hypothesis.\n",
      "Conclusion: There is a significant difference between the cost for each type of restaurant.\n"
     ]
    }
   ],
   "source": [
    "sample1 = samples_d['Delivery'].approx_cost\n",
    "sample2 = samples_d['Dine-out'].approx_cost\n",
    "sample3 = samples_d['Desserts'].approx_cost\n",
    "sample4 = samples_d['Cafes'].approx_cost\n",
    "sample5 = samples_d['Drinks & nightlife'].approx_cost\n",
    "sample6 = samples_d['Buffet'].approx_cost\n",
    "sample7 = samples_d['Pubs and bars'].approx_cost\n",
    "\n",
    "\n",
    "# Perform one-way ANOVA test\n",
    "f_stat, p_val = stats.f_oneway(sample1, sample2, sample3, sample4, sample5, sample6, sample7)\n",
    "\n",
    "# Print results\n",
    "print(\"F-statistic: {:.2f}\".format(f_stat))\n",
    "print(\"p-value: {:.4f}\".format(p_val))\n",
    "\n",
    "# Interpret results\n",
    "if p_val < 0.05:\n",
    "    print(\"Reject Null Hypothesis.\")\n",
    "    print(\"Conclusion: There is a significant difference between the cost for each type of restaurant.\")\n",
    "else:\n",
    "    print(\"Fail to Reject Null Hypothesis.\")\n",
    "    print(\"Conclusion: There is no significant difference between the cost.\")\n"
   ]
  },
  {
   "cell_type": "markdown",
   "id": "e2293201",
   "metadata": {},
   "source": [
    "--------------"
   ]
  },
  {
   "cell_type": "markdown",
   "id": "4e8d481e",
   "metadata": {},
   "source": [
    "### Part-III Analysis of Categorical data"
   ]
  },
  {
   "cell_type": "code",
   "execution_count": 10,
   "id": "21cb4fbe",
   "metadata": {},
   "outputs": [
    {
     "data": {
      "image/png": "[encoded data removed]",
      "text/plain": [
       "<Figure size 432x288 with 1 Axes>"
      ]
     },
     "metadata": {
      "needs_background": "light"
     },
     "output_type": "display_data"
    }
   ],
   "source": [
    "freq_table = ind_df.location.value_counts().head(5)\n",
    "plt.bar(freq_table.index, freq_table.values)\n",
    "plt.xticks(rotation=90)\n",
    "plt.xlabel('Location')\n",
    "plt.ylabel('Number of restaurants')\n",
    "plt.show()"
   ]
  },
  {
   "cell_type": "markdown",
   "id": "be85f97a",
   "metadata": {},
   "source": [
    "##### Claim: There might be a relationship between the type of restaurants that are present in certain localities. For example, certain areas might have more buffets and fewer pubs, while others might have more pubs and fewer buffets. This relationship might be due to factors such as the demographics of the area or the preferences of the people who live there."
   ]
  },
  {
   "cell_type": "code",
   "execution_count": 11,
   "id": "72df3b92",
   "metadata": {},
   "outputs": [],
   "source": [
    "top_5_locations = ind_df[ind_df['location'].isin(freq_table.index)]\n",
    "\n",
    "contingency_table = pd.crosstab(top_5_locations['location'], ind_df['type'])"
   ]
  },
  {
   "cell_type": "code",
   "execution_count": 12,
   "id": "1b4db0f5",
   "metadata": {},
   "outputs": [
    {
     "data": {
      "text/html": [
       "<div>\n",
       "<style scoped>\n",
       "    .dataframe tbody tr th:only-of-type {\n",
       "        vertical-align: middle;\n",
       "    }\n",
       "\n",
       "    .dataframe tbody tr th {\n",
       "        vertical-align: top;\n",
       "    }\n",
       "\n",
       "    .dataframe thead th {\n",
       "        text-align: right;\n",
       "    }\n",
       "</style>\n",
       "<table border=\"1\" class=\"dataframe\">\n",
       "  <thead>\n",
       "    <tr style=\"text-align: right;\">\n",
       "      <th>type</th>\n",
       "      <th>Buffet</th>\n",
       "      <th>Cafes</th>\n",
       "      <th>Delivery</th>\n",
       "      <th>Desserts</th>\n",
       "      <th>Dine-out</th>\n",
       "      <th>Drinks &amp; nightlife</th>\n",
       "      <th>Pubs and bars</th>\n",
       "    </tr>\n",
       "    <tr>\n",
       "      <th>location</th>\n",
       "      <th></th>\n",
       "      <th></th>\n",
       "      <th></th>\n",
       "      <th></th>\n",
       "      <th></th>\n",
       "      <th></th>\n",
       "      <th></th>\n",
       "    </tr>\n",
       "  </thead>\n",
       "  <tbody>\n",
       "    <tr>\n",
       "      <th>BTM</th>\n",
       "      <td>4</td>\n",
       "      <td>4</td>\n",
       "      <td>146</td>\n",
       "      <td>7</td>\n",
       "      <td>27</td>\n",
       "      <td>0</td>\n",
       "      <td>0</td>\n",
       "    </tr>\n",
       "    <tr>\n",
       "      <th>HSR</th>\n",
       "      <td>3</td>\n",
       "      <td>11</td>\n",
       "      <td>212</td>\n",
       "      <td>10</td>\n",
       "      <td>17</td>\n",
       "      <td>1</td>\n",
       "      <td>1</td>\n",
       "    </tr>\n",
       "    <tr>\n",
       "      <th>Indiranagar</th>\n",
       "      <td>11</td>\n",
       "      <td>32</td>\n",
       "      <td>167</td>\n",
       "      <td>9</td>\n",
       "      <td>57</td>\n",
       "      <td>4</td>\n",
       "      <td>2</td>\n",
       "    </tr>\n",
       "    <tr>\n",
       "      <th>Marathahalli</th>\n",
       "      <td>10</td>\n",
       "      <td>2</td>\n",
       "      <td>158</td>\n",
       "      <td>4</td>\n",
       "      <td>27</td>\n",
       "      <td>2</td>\n",
       "      <td>1</td>\n",
       "    </tr>\n",
       "    <tr>\n",
       "      <th>Whitefield</th>\n",
       "      <td>13</td>\n",
       "      <td>9</td>\n",
       "      <td>175</td>\n",
       "      <td>8</td>\n",
       "      <td>55</td>\n",
       "      <td>1</td>\n",
       "      <td>1</td>\n",
       "    </tr>\n",
       "  </tbody>\n",
       "</table>\n",
       "</div>"
      ],
      "text/plain": [
       "type          Buffet  Cafes  Delivery  Desserts  Dine-out  Drinks & nightlife  \\\n",
       "location                                                                        \n",
       "BTM                4      4       146         7        27                   0   \n",
       "HSR                3     11       212        10        17                   1   \n",
       "Indiranagar       11     32       167         9        57                   4   \n",
       "Marathahalli      10      2       158         4        27                   2   \n",
       "Whitefield        13      9       175         8        55                   1   \n",
       "\n",
       "type          Pubs and bars  \n",
       "location                     \n",
       "BTM                       0  \n",
       "HSR                       1  \n",
       "Indiranagar               2  \n",
       "Marathahalli              1  \n",
       "Whitefield                1  "
      ]
     },
     "execution_count": 12,
     "metadata": {},
     "output_type": "execute_result"
    }
   ],
   "source": [
    "contingency_table"
   ]
  },
  {
   "cell_type": "code",
   "execution_count": 13,
   "id": "a393df00",
   "metadata": {},
   "outputs": [],
   "source": [
    "chi2_stat, p_val, dof, expected_freq = stats.chi2_contingency(contingency_table)"
   ]
  },
  {
   "cell_type": "code",
   "execution_count": 14,
   "id": "e2a42713",
   "metadata": {},
   "outputs": [
    {
     "name": "stdout",
     "output_type": "stream",
     "text": [
      "Chi-square statistic: 86.6724\n",
      "Degrees of freedom: 24\n",
      "p-value: 0.0\n",
      "Reject the null hypothesis: There is a significant association between the two variables.\n"
     ]
    }
   ],
   "source": [
    "# Print the results\n",
    "print(\"Chi-square statistic:\",round(chi2_stat,4))\n",
    "print(\"Degrees of freedom:\", dof)\n",
    "print(\"p-value:\", round(p_val,4))\n",
    "\n",
    "# Make a hypothesis decision based on the p-value\n",
    "if p_val < 0.05:\n",
    "    print(\"Reject the null hypothesis: There is a significant association between the two variables.\")\n",
    "else:\n",
    "    print(\"Fail to reject the null hypothesis: There is no significant association between the two variables.\")"
   ]
  },
  {
   "cell_type": "markdown",
   "id": "2908ecd3",
   "metadata": {},
   "source": [
    "Huray ! \n",
    "\n",
    ":) \n",
    "    \n",
    "__My claim is true: There is relationship between the type of restaurants that are present in certain localities.__"
   ]
  },
  {
   "cell_type": "markdown",
   "id": "55367db6",
   "metadata": {},
   "source": [
    "---------------"
   ]
  },
  {
   "cell_type": "markdown",
   "id": "f07a6b2e",
   "metadata": {},
   "source": [
    "### Part-IV Linear Regression"
   ]
  },
  {
   "cell_type": "markdown",
   "id": "20585565",
   "metadata": {},
   "source": [
    "* Predict the rating of restaurant based on given attributes using simple regression model"
   ]
  },
  {
   "cell_type": "code",
   "execution_count": 15,
   "id": "ff26306b",
   "metadata": {},
   "outputs": [
    {
     "name": "stdout",
     "output_type": "stream",
     "text": [
      "R-squared score: 0.14706960901936983\n"
     ]
    }
   ],
   "source": [
    "# encode categorical variables\n",
    "cat_cols = ['online_order', 'book_table', 'location', 'rest_type', 'dish_liked', 'cuisines', 'type']\n",
    "encoder = LabelEncoder()\n",
    "for col in cat_cols:\n",
    "    df[col] = encoder.fit_transform(df[col])\n",
    "\n",
    "# scale numerical variables\n",
    "num_cols = ['rating', 'votes', 'approx_cost']\n",
    "scaler = StandardScaler()\n",
    "df[num_cols] = scaler.fit_transform(df[num_cols])\n",
    "\n",
    "# split the data into training and testing sets\n",
    "X = df.drop(['name', 'rating'], axis=1)\n",
    "y = df['rating']\n",
    "X_train, X_test, y_train, y_test = train_test_split(X, y, test_size=0.2, random_state=42)\n",
    "\n",
    "# train the linear regression model\n",
    "model = LinearRegression()\n",
    "model.fit(X_train, y_train)\n",
    "\n",
    "# evaluate the model on the testing set\n",
    "score = model.score(X_test, y_test)\n",
    "print('R-squared score:', score)\n"
   ]
  },
  {
   "cell_type": "markdown",
   "id": "8d59358b",
   "metadata": {},
   "source": [
    "------------"
   ]
  },
  {
   "cell_type": "markdown",
   "id": "d95e5c28",
   "metadata": {},
   "source": [
    "### Part-V & VI Resampling Methods & Linear model selection"
   ]
  },
  {
   "cell_type": "markdown",
   "id": "e1287772",
   "metadata": {},
   "source": [
    "Backward feature selection using the Bayesian Information Criterion (BIC) "
   ]
  },
  {
   "cell_type": "code",
   "execution_count": 16,
   "id": "71c89a3a",
   "metadata": {},
   "outputs": [
    {
     "name": "stdout",
     "output_type": "stream",
     "text": [
      "best subset size= 6\n"
     ]
    },
    {
     "data": {
      "image/png": "[encoded data removed]",
      "text/plain": [
       "<Figure size 432x288 with 1 Axes>"
      ]
     },
     "metadata": {
      "needs_background": "light"
     },
     "output_type": "display_data"
    }
   ],
   "source": [
    "n_features = X.shape[1]\n",
    "bic_values = np.zeros((n_features+1,))\n",
    "n = X.shape[0]\n",
    "\n",
    "for k in range(1, n_features+1):\n",
    "    for subset in combinations(range(n_features), k):\n",
    "        X_sub = X.iloc[:, list(subset)]\n",
    "        model = LinearRegression().fit(X_sub, y)\n",
    "        RSS = np.sum((y - model.predict(X_sub))**2)\n",
    "        bic_values[k] += n*np.log(RSS/n) + k*np.log(n)\n",
    "        \n",
    "best_k = np.argmin(bic_values) + 1\n",
    "print('best subset size=',best_k)\n",
    "\n",
    "plt.plot(range(1, n_features+2), bic_values, '-o')\n",
    "plt.xlabel('Number of Variables')\n",
    "plt.ylabel('BIC')\n",
    "plt.plot(best_k, bic_values[best_k-1], 'ro', markersize=10)\n",
    "plt.show()"
   ]
  },
  {
   "cell_type": "code",
   "execution_count": 17,
   "id": "af3d3b0b",
   "metadata": {},
   "outputs": [
    {
     "name": "stdout",
     "output_type": "stream",
     "text": [
      "Best subset size= 6\n",
      "Best subset of features:  ['dish_liked', 'rest_type', 'cuisines', 'location', 'approx_cost', 'votes']\n"
     ]
    }
   ],
   "source": [
    "best_subset_idx = np.argsort(bic_values)[:best_k]\n",
    "best_subset = X.iloc[:, best_subset_idx]\n",
    "print('Best subset size=',best_k)\n",
    "print('Best subset of features: ', list(best_subset.columns))"
   ]
  },
  {
   "cell_type": "markdown",
   "id": "043f3293",
   "metadata": {},
   "source": [
    "----------------"
   ]
  },
  {
   "cell_type": "markdown",
   "id": "b6d10ef8",
   "metadata": {},
   "source": [
    "Lasso Regression"
   ]
  },
  {
   "cell_type": "code",
   "execution_count": 23,
   "id": "9e6dfdc0",
   "metadata": {},
   "outputs": [
    {
     "name": "stdout",
     "output_type": "stream",
     "text": [
      "Mean squared error: 0.8494520117169857\n",
      "Standard deviation of mean squared error: 0.12378623957733521\n"
     ]
    }
   ],
   "source": [
    "\n",
    "# Define the number of folds for cross-validation\n",
    "num_folds = 5\n",
    "\n",
    "# Define the regularization parameter for Lasso\n",
    "alpha = 0.01\n",
    "\n",
    "# Initialize the k-fold cross-validation object\n",
    "kf = KFold(n_splits=num_folds)\n",
    "\n",
    "# Initialize an array to store the mean squared errors for each fold\n",
    "mse = np.zeros(num_folds)\n",
    "\n",
    "# Loop over the folds\n",
    "for i, (train_index, test_index) in enumerate(kf.split(X)):\n",
    "    \n",
    "    # Split the data into training and test sets for this fold\n",
    "    X_train, X_test = X.iloc[train_index,:], X.iloc[test_index,:]\n",
    "    y_train, y_test = y.iloc[train_index], y.iloc[test_index]\n",
    "    \n",
    "    # Create a Lasso regression model\n",
    "    lasso = Lasso(alpha=alpha)\n",
    "    \n",
    "    # Fit the model on the training data\n",
    "    lasso.fit(X_train, y_train)\n",
    "    \n",
    "    # Predict on the test data\n",
    "    y_pred = lasso.predict(X_test)\n",
    "    \n",
    "    # Compute the mean squared error for this fold\n",
    "    mse[i] = mean_squared_error(y_test, y_pred)\n",
    "    \n",
    "# Compute the mean and standard deviation of the mean squared errors\n",
    "mean_mse = np.mean(mse)\n",
    "std_mse = np.std(mse)\n",
    "\n",
    "# Print the mean and standard deviation of the mean squared errors\n",
    "print(\"Mean squared error:\", mean_mse)\n",
    "print(\"Standard deviation of mean squared error:\", std_mse)\n",
    "\n",
    "# Get the coefficients and intercept\n",
    "coefficients = lasso.coef_\n",
    "intercept = lasso.intercept_\n",
    "# print(\"Coefficients:\", coefficients)\n",
    "# print(\"Intercept:\", intercept)\n"
   ]
  },
  {
   "cell_type": "markdown",
   "id": "a457fc9e",
   "metadata": {},
   "source": [
    "Ridge Regression"
   ]
  },
  {
   "cell_type": "code",
   "execution_count": 44,
   "id": "6a06f9c2",
   "metadata": {},
   "outputs": [
    {
     "name": "stdout",
     "output_type": "stream",
     "text": [
      "Mean squared error: 0.8481731229536754\n",
      "Standard deviation of mean squared error: 0.12217674649758542\n"
     ]
    }
   ],
   "source": [
    "\n",
    "# Define the number of folds for cross-validation\n",
    "num_folds = 5\n",
    "\n",
    "# Define the regularization parameter for ridge\n",
    "alpha = 0.02\n",
    "\n",
    "# Initialize the k-fold cross-validation object\n",
    "kf = KFold(n_splits=num_folds)\n",
    "\n",
    "# Initialize an array to store the mean squared errors for each fold\n",
    "mse = np.zeros(num_folds)\n",
    "\n",
    "# Loop over the folds\n",
    "for i, (train_index, test_index) in enumerate(kf.split(X)):\n",
    "    \n",
    "    # Split the data into training and test sets for this fold\n",
    "    X_train, X_test = X.iloc[train_index,:], X.iloc[test_index,:]\n",
    "    y_train, y_test = y.iloc[train_index], y.iloc[test_index]\n",
    "    \n",
    "    \n",
    "   # Initialize Ridge Regression Model\n",
    "    ridge = Ridge(alpha=0.5)\n",
    "    \n",
    "    # Fit the model on the training data\n",
    "    ridge.fit(X_train, y_train)\n",
    "    \n",
    "    # Predict on the test data\n",
    "    y_pred = ridge.predict(X_test)\n",
    "    \n",
    "    # Compute the mean squared error for this fold\n",
    "    mse[i] = mean_squared_error(y_test, y_pred)\n",
    "    \n",
    "# Compute the mean and standard deviation of the mean squared errors\n",
    "mean_mse = np.mean(mse)\n",
    "std_mse = np.std(mse)\n",
    "\n",
    "# Print the mean and standard deviation of the mean squared errors\n",
    "print(\"Mean squared error:\", mean_mse)\n",
    "print(\"Standard deviation of mean squared error:\", std_mse)\n",
    "\n",
    "# Get the coefficients and intercept\n",
    "coefficients = ridge.coef_\n",
    "intercept = ridge.intercept_\n",
    "# print(\"Coefficients:\", coefficients)\n",
    "# print(\"Intercept:\", intercept)\n",
    "\n"
   ]
  },
  {
   "cell_type": "markdown",
   "id": "7758318d",
   "metadata": {},
   "source": [
    "----------\n",
    "\n",
    "### Part-VII Moving beyond Linearity"
   ]
  },
  {
   "cell_type": "code",
   "execution_count": 51,
   "id": "4f005c69",
   "metadata": {},
   "outputs": [
    {
     "name": "stdout",
     "output_type": "stream",
     "text": [
      "R-squared score for degree=3 model: 0.24128499780903045\n"
     ]
    }
   ],
   "source": [
    "# Create polynomial features of degree k\n",
    "degree = 3\n",
    "poly = PolynomialFeatures(degree=degree)\n",
    "X_train_poly = poly.fit_transform(X_train)\n",
    "\n",
    "# Create a linear regression model\n",
    "reg = LinearRegression()\n",
    "\n",
    "# Fit the model to the polynomial features and target variable\n",
    "reg.fit(X_train_poly, y_train)\n",
    "\n",
    "X_test_poly = poly.transform(X_test)\n",
    "y_test_pred = reg.predict(X_test_poly)\n",
    "\n",
    "# evaluate the model on the testing set\n",
    "score = reg.score(X_test_poly, y_test)\n",
    "print(f'R-squared score for degree={degree} model:', score)"
   ]
  },
  {
   "cell_type": "markdown",
   "id": "9c1f23ee",
   "metadata": {},
   "source": [
    "### Conclusion:\n",
    "Based on the above results, we can conclude that the polynomial regression model with degree 3 has the highest R-squared score of 0.2412, indicating that it explains 24.12% of the variance in the data. However, this score is still relatively low, indicating that the model may not be a very good fit for the data.\n",
    "\n",
    "In contrast, both the lasso and ridge regression models have lower mean squared error values of 0.8494 and 0.8482, respectively, which suggests that they provide better predictions than the polynomial regression model. The standard deviation of the mean squared error is also lower for both the lasso and ridge regression models, indicating that they have lower prediction errors overall.\n",
    "\n",
    "Therefore, if we prioritize prediction accuracy over explaining the variance in the data, it might be more appropriate to use either the lasso or ridge regression models. However, if we want to understand how well our model fits the data, the polynomial regression model with degree 3 provides a slightly better indication, although still not ideal.\n",
    "\n",
    "\n",
    "\n",
    "\n"
   ]
  }
 ],
 "metadata": {
  "kernelspec": {
   "display_name": "Python 3 (ipykernel)",
   "language": "python",
   "name": "python3"
  },
  "language_info": {
   "codemirror_mode": {
    "name": "ipython",
    "version": 3
   },
   "file_extension": ".py",
   "mimetype": "text/x-python",
   "name": "python",
   "nbconvert_exporter": "python",
   "pygments_lexer": "ipython3",
   "version": "3.9.7"
  }
 },
 "nbformat": 4,
 "nbformat_minor": 5
}
